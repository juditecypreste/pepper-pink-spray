{
 "cells": [
  {
   "cell_type": "code",
   "execution_count": 1,
   "id": "085fcbd2",
   "metadata": {
    "scrolled": false
   },
   "outputs": [],
   "source": [
    "# Import libraries\n",
    "from bs4 import BeautifulSoup\n",
    "import requests\n",
    "import pandas as pd\n",
    "\n",
    "# Create a list of page numbers for pagination. The rule is: start at 1 and increment by 50 for each page\n",
    "page = list(range(1, 600, 50))\n",
    "\n",
    "# Initialize empty lists to store data\n",
    "urls = []\n",
    "names = []\n",
    "reais = []\n",
    "cents = []\n",
    "\n",
    "# Iterate over each page\n",
    "for number in page:\n",
    "    url = f\"https://lista.mercadolivre.com.br/spray-pimenta_Desde_{number}_NoIndex_True\"\n",
    "    response = requests.get(url)\n",
    "    soup = BeautifulSoup(response.text, \"html.parser\")\n",
    "\n",
    "# Find all the products on the page\n",
    "    sprays = soup.find_all(class_=\"ui-search-result__wrapper shops__result-wrapper\")\n",
    "\n",
    "    for spray in sprays:\n",
    "\n",
    "# Find the URL\n",
    "        url_product = spray.find(\"a\", class_=\"ui-search-item__group__element shops__items-group-details ui-search-link\")\n",
    "        href = url_product.get(\"href\")\n",
    "        if href:\n",
    "            urls.append(href)\n",
    "            \n",
    "# Extract the product name\n",
    "        name_product = spray.find(class_=\"ui-search-item__title shops__item-title\")\n",
    "        if name_product:\n",
    "            names.append(name_product.text)\n",
    "\n",
    "# Find the regular price element, not the price in credit card\n",
    "        regular_price = spray.find(class_=\"andes-money-amount ui-search-price__part shops__price-part andes-money-amount--cents-superscript\")\n",
    "        if regular_price:\n",
    "# Find the price text and check if it contains cents\n",
    "            reales_price = regular_price.find(class_=\"andes-money-amount__fraction\")\n",
    "            if reales_price:\n",
    "                reais.append(reales_price.text)            \n",
    "                cents_price = regular_price.find(class_=\"andes-money-amount__cents andes-money-amount__cents--superscript-24\")\n",
    "                if cents_price:\n",
    "                    cents.append(cents_price.text)\n",
    "                else:\n",
    "                    cents.append(\"00\")\n",
    "\n",
    "# Create a dictionary with the extracted data\n",
    "items = {\"url\": urls, \"name\": names, \"reais\": reais, \"cents\": cents}\n",
    "\n",
    "# Create a DataFrame\n",
    "df = pd.DataFrame(items)\n",
    "\n",
    "# Save the DataFrame\n",
    "df.to_csv(\"data_spray.csv\", index=False)"
   ]
  }
 ],
 "metadata": {
  "kernelspec": {
   "display_name": "Python 3 (ipykernel)",
   "language": "python",
   "name": "python3"
  },
  "language_info": {
   "codemirror_mode": {
    "name": "ipython",
    "version": 3
   },
   "file_extension": ".py",
   "mimetype": "text/x-python",
   "name": "python",
   "nbconvert_exporter": "python",
   "pygments_lexer": "ipython3",
   "version": "3.10.11"
  }
 },
 "nbformat": 4,
 "nbformat_minor": 5
}
